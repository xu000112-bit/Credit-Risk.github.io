{
 "cells": [
  {
   "cell_type": "markdown",
   "id": "0ab0b09b",
   "metadata": {},
   "source": [
    "<h1><center>Credict Card Risk Prediction Research</center></h1>\n",
    "    \n",
    "**<center><em>Qinzheng Xu</em></center>**\n",
    "    \n",
    "**<center><em>Tulane University</em></center>**\n",
    "\n",
    "---\n",
    "\n",
    "## 📚 Table of Contents\n",
    "1. [Module Importation](#1-module-importation)\n",
    "2. [Load Data](#2-load-data)\n",
    "3. [Rename Data Column and Label Encoding](#3-rename-data-column-and-label-encoding)\n",
    "4. [Handle Missing Values](#4-handle-missing-values)\n",
    "5. [Data Visualization](#5-data-visualization)\n",
    "6. [Train and Test Sample Preparation](#6-train-and-test-sample-preparation)\n",
    "7. [Machine Learning Analysis](#7-machine-learning-analysis)\n",
    "8. [Model Comparison](#8-model-comparison)\n",
    "9. [Classification Report](#9-classification-report)\n",
    "\n",
    "---"
   ]
  },
  {
   "cell_type": "markdown",
   "id": "7db50d40",
   "metadata": {},
   "source": [
    "## 1. Module Importation\n",
    "[Back to Top](#credit-card-risk-prediction-research)"
   ]
  },
  {
   "cell_type": "code",
   "execution_count": 1,
   "id": "09be25d3",
   "metadata": {},
   "outputs": [],
   "source": [
    "# Load Modules.\n",
    "import warnings\n",
    "warnings.filterwarnings(\"ignore\")\n",
    "\n",
    "import pandas as pd\n",
    "import numpy as np\n",
    "import seaborn as sns\n",
    "import matplotlib.pyplot as plt\n",
    "from sklearn.model_selection import train_test_split, cross_val_score\n",
    "from sklearn.preprocessing import StandardScaler, LabelEncoder\n",
    "from sklearn.metrics import classification_report, accuracy_score\n",
    "from sklearn.linear_model import LogisticRegression, Lasso\n",
    "from sklearn.ensemble import RandomForestClassifier\n",
    "from sklearn.neighbors import KNeighborsClassifier\n",
    "from sklearn.svm import SVC\n",
    "from sklearn.neural_network import MLPClassifier\n",
    "from sklearn.naive_bayes import GaussianNB\n",
    "from sklearn.metrics import classification_report, confusion_matrix"
   ]
  },
  {
   "cell_type": "markdown",
   "id": "9b1c751a",
   "metadata": {},
   "source": [
    "- **Pandas (`pd`)**: For handling and manipulating structured data 🗃️.\n",
    "- **NumPy (`np`)**: For numerical operations, especially on arrays 🧮.\n",
    "- **Seaborn (`sns`) & Matplotlib (`plt`)**: For data visualization 🖼️.\n",
    "- **Scikit-learn Modules**: \n",
    "  - For various machine learning tasks, such as model building 🛠️ (e.g., `LogisticRegression`, `RandomForestClassifier`).\n",
    "  - Data preprocessing 🧹 (`StandardScaler`, `LabelEncoder`).\n",
    "  - Model evaluation 🏅 (`classification_report`, `accuracy_score`).\n",
    "- **Warnings**: To suppress any unwanted warnings that might clutter your notebook output ⚠️."
   ]
  },
  {
   "cell_type": "markdown",
   "id": "52231b7f",
   "metadata": {},
   "source": [
    "## 2 Load Data\n",
    "[Back to Top](#credit-card-risk-prediction-research)"
   ]
  },
  {
   "cell_type": "code",
   "execution_count": 2,
   "id": "89df9d77",
   "metadata": {},
   "outputs": [
    {
     "data": {
      "text/html": [
       "<div>\n",
       "<style scoped>\n",
       "    .dataframe tbody tr th:only-of-type {\n",
       "        vertical-align: middle;\n",
       "    }\n",
       "\n",
       "    .dataframe tbody tr th {\n",
       "        vertical-align: top;\n",
       "    }\n",
       "\n",
       "    .dataframe thead th {\n",
       "        text-align: right;\n",
       "    }\n",
       "</style>\n",
       "<table border=\"1\" class=\"dataframe\">\n",
       "  <thead>\n",
       "    <tr style=\"text-align: right;\">\n",
       "      <th></th>\n",
       "      <th>0</th>\n",
       "      <th>1</th>\n",
       "      <th>2</th>\n",
       "      <th>3</th>\n",
       "      <th>4</th>\n",
       "      <th>5</th>\n",
       "      <th>6</th>\n",
       "      <th>7</th>\n",
       "      <th>8</th>\n",
       "      <th>9</th>\n",
       "      <th>10</th>\n",
       "      <th>11</th>\n",
       "      <th>12</th>\n",
       "      <th>13</th>\n",
       "      <th>14</th>\n",
       "      <th>15</th>\n",
       "    </tr>\n",
       "  </thead>\n",
       "  <tbody>\n",
       "    <tr>\n",
       "      <th>0</th>\n",
       "      <td>b</td>\n",
       "      <td>30.83</td>\n",
       "      <td>0.000</td>\n",
       "      <td>u</td>\n",
       "      <td>g</td>\n",
       "      <td>w</td>\n",
       "      <td>v</td>\n",
       "      <td>1.25</td>\n",
       "      <td>t</td>\n",
       "      <td>t</td>\n",
       "      <td>1</td>\n",
       "      <td>f</td>\n",
       "      <td>g</td>\n",
       "      <td>00202</td>\n",
       "      <td>0</td>\n",
       "      <td>+</td>\n",
       "    </tr>\n",
       "    <tr>\n",
       "      <th>1</th>\n",
       "      <td>a</td>\n",
       "      <td>58.67</td>\n",
       "      <td>4.460</td>\n",
       "      <td>u</td>\n",
       "      <td>g</td>\n",
       "      <td>q</td>\n",
       "      <td>h</td>\n",
       "      <td>3.04</td>\n",
       "      <td>t</td>\n",
       "      <td>t</td>\n",
       "      <td>6</td>\n",
       "      <td>f</td>\n",
       "      <td>g</td>\n",
       "      <td>00043</td>\n",
       "      <td>560</td>\n",
       "      <td>+</td>\n",
       "    </tr>\n",
       "    <tr>\n",
       "      <th>2</th>\n",
       "      <td>a</td>\n",
       "      <td>24.50</td>\n",
       "      <td>0.500</td>\n",
       "      <td>u</td>\n",
       "      <td>g</td>\n",
       "      <td>q</td>\n",
       "      <td>h</td>\n",
       "      <td>1.50</td>\n",
       "      <td>t</td>\n",
       "      <td>f</td>\n",
       "      <td>0</td>\n",
       "      <td>f</td>\n",
       "      <td>g</td>\n",
       "      <td>00280</td>\n",
       "      <td>824</td>\n",
       "      <td>+</td>\n",
       "    </tr>\n",
       "    <tr>\n",
       "      <th>3</th>\n",
       "      <td>b</td>\n",
       "      <td>27.83</td>\n",
       "      <td>1.540</td>\n",
       "      <td>u</td>\n",
       "      <td>g</td>\n",
       "      <td>w</td>\n",
       "      <td>v</td>\n",
       "      <td>3.75</td>\n",
       "      <td>t</td>\n",
       "      <td>t</td>\n",
       "      <td>5</td>\n",
       "      <td>t</td>\n",
       "      <td>g</td>\n",
       "      <td>00100</td>\n",
       "      <td>3</td>\n",
       "      <td>+</td>\n",
       "    </tr>\n",
       "    <tr>\n",
       "      <th>4</th>\n",
       "      <td>b</td>\n",
       "      <td>20.17</td>\n",
       "      <td>5.625</td>\n",
       "      <td>u</td>\n",
       "      <td>g</td>\n",
       "      <td>w</td>\n",
       "      <td>v</td>\n",
       "      <td>1.71</td>\n",
       "      <td>t</td>\n",
       "      <td>f</td>\n",
       "      <td>0</td>\n",
       "      <td>f</td>\n",
       "      <td>s</td>\n",
       "      <td>00120</td>\n",
       "      <td>0</td>\n",
       "      <td>+</td>\n",
       "    </tr>\n",
       "  </tbody>\n",
       "</table>\n",
       "</div>"
      ],
      "text/plain": [
       "  0      1      2  3  4  5  6     7  8  9   10 11 12     13   14 15\n",
       "0  b  30.83  0.000  u  g  w  v  1.25  t  t   1  f  g  00202    0  +\n",
       "1  a  58.67  4.460  u  g  q  h  3.04  t  t   6  f  g  00043  560  +\n",
       "2  a  24.50  0.500  u  g  q  h  1.50  t  f   0  f  g  00280  824  +\n",
       "3  b  27.83  1.540  u  g  w  v  3.75  t  t   5  t  g  00100    3  +\n",
       "4  b  20.17  5.625  u  g  w  v  1.71  t  f   0  f  s  00120    0  +"
      ]
     },
     "execution_count": 2,
     "metadata": {},
     "output_type": "execute_result"
    }
   ],
   "source": [
    "# Load dataset\n",
    "data = pd.read_csv(\"cc_approvals.data\", header=None)\n",
    "\n",
    "# Inspect data\n",
    "data.head(5)"
   ]
  },
  {
   "cell_type": "markdown",
   "id": "cd7f5019",
   "metadata": {},
   "source": [
    "## 3. 📚Rename Data Column and Label Encoding\n",
    "[back](#-qinzheng-xu)"
   ]
  },
  {
   "cell_type": "code",
   "execution_count": 3,
   "id": "bdf64e7f",
   "metadata": {},
   "outputs": [
    {
     "name": "stdout",
     "output_type": "stream",
     "text": [
      "Length:  690\n"
     ]
    },
    {
     "data": {
      "text/html": [
       "<div>\n",
       "<style scoped>\n",
       "    .dataframe tbody tr th:only-of-type {\n",
       "        vertical-align: middle;\n",
       "    }\n",
       "\n",
       "    .dataframe tbody tr th {\n",
       "        vertical-align: top;\n",
       "    }\n",
       "\n",
       "    .dataframe thead th {\n",
       "        text-align: right;\n",
       "    }\n",
       "</style>\n",
       "<table border=\"1\" class=\"dataframe\">\n",
       "  <thead>\n",
       "    <tr style=\"text-align: right;\">\n",
       "      <th></th>\n",
       "      <th>Feature1</th>\n",
       "      <th>Feature2</th>\n",
       "      <th>Feature3</th>\n",
       "      <th>Feature4</th>\n",
       "      <th>Feature5</th>\n",
       "      <th>Feature6</th>\n",
       "      <th>Feature7</th>\n",
       "      <th>Feature8</th>\n",
       "      <th>Feature9</th>\n",
       "      <th>Feature10</th>\n",
       "      <th>Feature11</th>\n",
       "      <th>Feature12</th>\n",
       "      <th>Feature13</th>\n",
       "      <th>Feature14</th>\n",
       "      <th>Feature15</th>\n",
       "      <th>Target</th>\n",
       "    </tr>\n",
       "  </thead>\n",
       "  <tbody>\n",
       "    <tr>\n",
       "      <th>0</th>\n",
       "      <td>2</td>\n",
       "      <td>30.83</td>\n",
       "      <td>0.000</td>\n",
       "      <td>2</td>\n",
       "      <td>1</td>\n",
       "      <td>13</td>\n",
       "      <td>8</td>\n",
       "      <td>1.25</td>\n",
       "      <td>1</td>\n",
       "      <td>1</td>\n",
       "      <td>1</td>\n",
       "      <td>0</td>\n",
       "      <td>0</td>\n",
       "      <td>68</td>\n",
       "      <td>0</td>\n",
       "      <td>0</td>\n",
       "    </tr>\n",
       "    <tr>\n",
       "      <th>1</th>\n",
       "      <td>1</td>\n",
       "      <td>58.67</td>\n",
       "      <td>4.460</td>\n",
       "      <td>2</td>\n",
       "      <td>1</td>\n",
       "      <td>11</td>\n",
       "      <td>4</td>\n",
       "      <td>3.04</td>\n",
       "      <td>1</td>\n",
       "      <td>1</td>\n",
       "      <td>6</td>\n",
       "      <td>0</td>\n",
       "      <td>0</td>\n",
       "      <td>11</td>\n",
       "      <td>560</td>\n",
       "      <td>0</td>\n",
       "    </tr>\n",
       "    <tr>\n",
       "      <th>2</th>\n",
       "      <td>1</td>\n",
       "      <td>24.50</td>\n",
       "      <td>0.500</td>\n",
       "      <td>2</td>\n",
       "      <td>1</td>\n",
       "      <td>11</td>\n",
       "      <td>4</td>\n",
       "      <td>1.50</td>\n",
       "      <td>1</td>\n",
       "      <td>0</td>\n",
       "      <td>0</td>\n",
       "      <td>0</td>\n",
       "      <td>0</td>\n",
       "      <td>96</td>\n",
       "      <td>824</td>\n",
       "      <td>0</td>\n",
       "    </tr>\n",
       "    <tr>\n",
       "      <th>3</th>\n",
       "      <td>2</td>\n",
       "      <td>27.83</td>\n",
       "      <td>1.540</td>\n",
       "      <td>2</td>\n",
       "      <td>1</td>\n",
       "      <td>13</td>\n",
       "      <td>8</td>\n",
       "      <td>3.75</td>\n",
       "      <td>1</td>\n",
       "      <td>1</td>\n",
       "      <td>5</td>\n",
       "      <td>1</td>\n",
       "      <td>0</td>\n",
       "      <td>31</td>\n",
       "      <td>3</td>\n",
       "      <td>0</td>\n",
       "    </tr>\n",
       "    <tr>\n",
       "      <th>4</th>\n",
       "      <td>2</td>\n",
       "      <td>20.17</td>\n",
       "      <td>5.625</td>\n",
       "      <td>2</td>\n",
       "      <td>1</td>\n",
       "      <td>13</td>\n",
       "      <td>8</td>\n",
       "      <td>1.71</td>\n",
       "      <td>1</td>\n",
       "      <td>0</td>\n",
       "      <td>0</td>\n",
       "      <td>0</td>\n",
       "      <td>2</td>\n",
       "      <td>37</td>\n",
       "      <td>0</td>\n",
       "      <td>0</td>\n",
       "    </tr>\n",
       "  </tbody>\n",
       "</table>\n",
       "</div>"
      ],
      "text/plain": [
       "   Feature1 Feature2  Feature3  Feature4  Feature5  Feature6  Feature7  \\\n",
       "0         2    30.83     0.000         2         1        13         8   \n",
       "1         1    58.67     4.460         2         1        11         4   \n",
       "2         1    24.50     0.500         2         1        11         4   \n",
       "3         2    27.83     1.540         2         1        13         8   \n",
       "4         2    20.17     5.625         2         1        13         8   \n",
       "\n",
       "   Feature8  Feature9  Feature10  Feature11  Feature12  Feature13  Feature14  \\\n",
       "0      1.25         1          1          1          0          0         68   \n",
       "1      3.04         1          1          6          0          0         11   \n",
       "2      1.50         1          0          0          0          0         96   \n",
       "3      3.75         1          1          5          1          0         31   \n",
       "4      1.71         1          0          0          0          2         37   \n",
       "\n",
       "   Feature15  Target  \n",
       "0          0       0  \n",
       "1        560       0  \n",
       "2        824       0  \n",
       "3          3       0  \n",
       "4          0       0  "
      ]
     },
     "execution_count": 3,
     "metadata": {},
     "output_type": "execute_result"
    }
   ],
   "source": [
    "# Rename columns for clarity\n",
    "data.columns = ['Feature1', 'Feature2', 'Feature3', 'Feature4', 'Feature5', 'Feature6', 'Feature7', 'Feature8', 'Feature9', 'Feature10', 'Feature11', 'Feature12', 'Feature13', 'Feature14', 'Feature15', 'Target']\n",
    "\n",
    "# Convert categorical columns to numeric using Label Encoding\n",
    "label_encoders = {}\n",
    "for column in ['Feature1', 'Feature4', 'Feature5', 'Feature6', 'Feature7', 'Feature9', 'Feature10', 'Feature11', 'Feature12', 'Feature13', 'Feature14', 'Target']:\n",
    "    le = LabelEncoder()\n",
    "    data[column] = le.fit_transform(data[column])\n",
    "    label_encoders[column] = le\n",
    "\n",
    "print(\"Length: \", len(data))\n",
    "data.head(5)"
   ]
  },
  {
   "cell_type": "markdown",
   "id": "4bcbfe3d",
   "metadata": {},
   "source": [
    "- **Column Renaming 🏷️**: \n",
    "  - The columns are renamed for better clarity.\n",
    "  - This makes your dataset easier to work with, especially when performing exploratory data analysis (EDA) or building models.\n",
    "\n",
    "- **Label Encoding 🔢**:\n",
    "  - Categorical variables are converted into numerical format using `LabelEncoder`.\n",
    "  - This step is crucial because machine learning models require numerical input.\n",
    "  - For example, if you have a column like **Gender** with values `Male` and `Female`, Label Encoding will transform these into `0` and `1`, respectively."
   ]
  },
  {
   "cell_type": "markdown",
   "id": "a8096933",
   "metadata": {},
   "source": [
    "## 4. 📚Handle Missing Values\n",
    "[back](#-qinzheng-xu)"
   ]
  },
  {
   "cell_type": "code",
   "execution_count": 4,
   "id": "2c048cfd",
   "metadata": {},
   "outputs": [
    {
     "name": "stdout",
     "output_type": "stream",
     "text": [
      "Length:  678\n"
     ]
    }
   ],
   "source": [
    "# Check for non-numeric values and convert columns to numeric, replacing non-numeric entries with NaN\n",
    "data = data.apply(pd.to_numeric, errors='coerce')\n",
    "data = data.replace(\"?\", np.NaN)\n",
    "\n",
    "# Drop rows with NaN values\n",
    "data.dropna(inplace=True)\n",
    "\n",
    "print(\"Length: \", len(data))\n"
   ]
  },
  {
   "cell_type": "markdown",
   "id": "27da7be8",
   "metadata": {},
   "source": [
    "- **Initial Dataset Size**: 690 observations 📊\n",
    "- **Final Dataset Size**: 678 observations 📉\n",
    "- **Rows Removed**: 12 observations 🧹\n",
    "\n",
    "The reduction in the number of observations from **690** to **678** indicates that **12 observations** have been removed or filtered out during the data preprocessing phase."
   ]
  },
  {
   "cell_type": "markdown",
   "id": "7e659090",
   "metadata": {},
   "source": [
    "## 4. 📚Data Visualization\n",
    "[back](#-qinzheng-xu)"
   ]
  },
  {
   "cell_type": "code",
   "execution_count": 5,
   "id": "8359e583",
   "metadata": {},
   "outputs": [
    {
     "data": {
      "image/png": "[encoded data removed]",
      "text/plain": [
       "<Figure size 864x432 with 2 Axes>"
      ]
     },
     "metadata": {
      "needs_background": "light"
     },
     "output_type": "display_data"
    }
   ],
   "source": [
    "# Visualize the data\n",
    "plt.figure(figsize=(12, 6))\n",
    "sns.heatmap(data.corr(), annot=True, cmap='coolwarm', fmt='.2f')\n",
    "plt.title('Correlation Heatmap')\n",
    "plt.show()"
   ]
  },
  {
   "cell_type": "markdown",
   "id": "78c7796a",
   "metadata": {},
   "source": [
    "This image represents a **correlation matrix heatmap**, showcasing the correlation coefficients between pairs of features in a dataset. Here's how to interpret it:\n",
    "\n",
    "**1. Understanding Correlation Coefficients**📊\n",
    "\n",
    "- **Correlation Coefficient Range**: Values range from **-1 to 1**:\n",
    "  - **+1️⃣ (Perfect Positive Correlation)**: As one variable increases, the other also increases.\n",
    "  - **-1️⃣ (Perfect Negative Correlation)**: As one variable increases, the other decreases.\n",
    "  - **0️⃣ (No Correlation)**: No linear relationship between the variables.\n",
    "\n",
    "**2. Color Coding**🎨\n",
    "\n",
    "- **🔴 Red Shades**: Indicate **positive correlations**. The deeper the red, the stronger the positive relationship.\n",
    "- **🔵 Blue Shades**: Indicate **negative correlations**. The deeper the blue, the stronger the negative relationship.\n",
    "- **⚪ White/Light Shades**: Indicate **weak or no correlation** (values close to 0).\n",
    "\n",
    "**3. Diagonal Elements**🔗\n",
    "\n",
    "- All diagonal elements are **1.00** (deep red) because each variable is **perfectly correlated with itself**.\n",
    "\n",
    "**4. Analysis of Specific Correlations**🔍\n",
    "\n",
    "- **High Positive Correlations (Close to +1️⃣)**:\n",
    "  - **(Row 4, Column 3):** Value of **0.94** ➡️ Very strong positive correlation between these two variables, suggesting they are closely related or measure similar aspects.\n",
    "  - **(Row 16, Column 15):** Value of **0.66** ➡️ Moderate positive correlation.\n",
    "\n",
    "- **High Negative Correlations (Close to -1️⃣)**:\n",
    "  - **(Row 12, Column 11):** Value of **-0.73** ➡️ Strong negative correlation, indicating that as one variable increases, the other significantly decreases.\n",
    "  - **(Row 19, Column 11):** Value of **-0.46** ➡️ Moderate negative correlation.\n",
    "\n",
    "- **Weak/No Correlation (Close to 0️⃣)**:\n",
    "  - Many cells have values like **0.04** or **-0.02**, indicating little to no linear relationship between those variable pairs.\n",
    "\n",
    "**5. Key Observations**🧐\n",
    "\n",
    "- **Correlation Clusters**:\n",
    "  - Noticeable groups where variables show strong correlations (positive or negative), indicating potential relationships or underlying patterns in the data.\n",
    "\n",
    "- **Identifying Redundant Features**:\n",
    "  - Variables with very high positive or negative correlations might be **redundant**.\n",
    "  - **Action Point:** Consider removing or combining such features to simplify models without losing significant information."
   ]
  },
  {
   "cell_type": "markdown",
   "id": "bf2a5168",
   "metadata": {},
   "source": [
    "## 5. 📚Train and Test Sample Preparation\n",
    "[back](#-qinzheng-xu)"
   ]
  },
  {
   "cell_type": "code",
   "execution_count": 6,
   "id": "3933f892",
   "metadata": {},
   "outputs": [
    {
     "name": "stdout",
     "output_type": "stream",
     "text": [
      "X Shape:  (678, 15)\n",
      "y Shape:  (678,)\n"
     ]
    }
   ],
   "source": [
    "# Features and target variable\n",
    "X = data.drop(columns=['Target'])\n",
    "y = data['Target']\n",
    "\n",
    "# Feature Scaling\n",
    "scaler = StandardScaler()\n",
    "X_scaled = scaler.fit_transform(X)\n",
    "\n",
    "print(\"X Shape: \", np.shape(X_scaled))\n",
    "print(\"y Shape: \", np.shape(y))"
   ]
  },
  {
   "cell_type": "markdown",
   "id": "9a987565",
   "metadata": {},
   "source": [
    "## 6. 📚Machine Learning Analysis.\n",
    "[back](#-qinzheng-xu)"
   ]
  },
  {
   "cell_type": "markdown",
   "id": "231ea04e",
   "metadata": {},
   "source": [
    "#### Model 1: Logistic Regression"
   ]
  },
  {
   "cell_type": "code",
   "execution_count": 7,
   "id": "c5db7eda",
   "metadata": {},
   "outputs": [
    {
     "name": "stdout",
     "output_type": "stream",
     "text": [
      "Accuracy Mean: 0.8510239651416122\n",
      "Accuracy Standard Deviation: 0.12047558666120056\n"
     ]
    }
   ],
   "source": [
    "# Build the Logistic Regression model\n",
    "model = LogisticRegression(penalty = 'l2', C = 0.1)\n",
    "scores = cross_val_score(model, X_scaled, y, cv=5, scoring='accuracy')\n",
    "print(f\"Accuracy Mean: {scores.mean()}\")\n",
    "print(f\"Accuracy Standard Deviation: {scores.std()}\")"
   ]
  },
  {
   "cell_type": "markdown",
   "id": "99ccd2a6",
   "metadata": {},
   "source": [
    "- **Logistic Regression Performance**: \n",
    "  - **Accuracy**: 85.10% ✅\n",
    "  - **Standard Deviation**: 12.05% 📉\n",
    "\n",
    "While Logistic Regression shows strong performance with an accuracy of **85.10%**, the relatively high standard deviation of **12.05%** indicates significant variability across different folds. This variability suggests potential instability, possibly due to the model’s sensitivity to certain subsets of the data."
   ]
  },
  {
   "cell_type": "markdown",
   "id": "ac287d25",
   "metadata": {},
   "source": [
    "#### Model 2: Random Forest"
   ]
  },
  {
   "cell_type": "code",
   "execution_count": 8,
   "id": "8c3567bf",
   "metadata": {},
   "outputs": [
    {
     "name": "stdout",
     "output_type": "stream",
     "text": [
      "Accuracy Mean: 0.8524618736383441\n",
      "Accuracy Standard Deviation: 0.10080474532153663\n"
     ]
    }
   ],
   "source": [
    "# Build the Logistic Regression model\n",
    "model = RandomForestClassifier(n_estimators=500, criterion = 'gini')\n",
    "scores = cross_val_score(model, X_scaled, y, cv=5, scoring='accuracy')\n",
    "print(f\"Accuracy Mean: {scores.mean()}\")\n",
    "print(f\"Accuracy Standard Deviation: {scores.std()}\")"
   ]
  },
  {
   "cell_type": "markdown",
   "id": "a7a814fe",
   "metadata": {},
   "source": [
    "- **Random Forest Performance**: \n",
    "  - **Accuracy**: 85.84% 🌟\n",
    "  - **Standard Deviation**: 10.49% 📊\n",
    "\n",
    "Random Forest demonstrates strong performance with an accuracy of **85.84%** and a lower standard deviation of **10.49%** compared to Logistic Regression. This suggests more stable performance across different folds, making Random Forest a reliable choice for this dataset."
   ]
  },
  {
   "cell_type": "markdown",
   "id": "602d09d5",
   "metadata": {},
   "source": [
    "#### Model 3: Support Vector Machine "
   ]
  },
  {
   "cell_type": "code",
   "execution_count": 9,
   "id": "2092f16e",
   "metadata": {},
   "outputs": [
    {
     "name": "stdout",
     "output_type": "stream",
     "text": [
      "Accuracy Mean: 0.8642919389978214\n",
      "Accuracy Standard Deviation: 0.13340448355792825\n"
     ]
    }
   ],
   "source": [
    "model = SVC(C=1, kernel='linear', degree=1)\n",
    "scores = cross_val_score(model, X_scaled, y, cv=5, scoring='accuracy')\n",
    "print(f\"Accuracy Mean: {scores.mean()}\")\n",
    "print(f\"Accuracy Standard Deviation: {scores.std()}\")"
   ]
  },
  {
   "cell_type": "markdown",
   "id": "d7b92028",
   "metadata": {},
   "source": [
    "- **SVM Performance**: \n",
    "  - **Mean Accuracy**: 86.43% 🥇\n",
    "  - **Standard Deviation**: 13.34% ⚠️\n",
    "\n",
    "SVM achieves the highest mean accuracy of **86.43%**, but with a significant standard deviation of **13.34%**. This indicates that while SVM performs well overall, its performance may vary more significantly across different subsets of the data, suggesting potential sensitivity to specific data characteristics."
   ]
  },
  {
   "cell_type": "markdown",
   "id": "f601ae95",
   "metadata": {},
   "source": [
    "#### Model 4: Multi-layer Perceptron"
   ]
  },
  {
   "cell_type": "code",
   "execution_count": 10,
   "id": "87310d14",
   "metadata": {},
   "outputs": [
    {
     "name": "stdout",
     "output_type": "stream",
     "text": [
      "Accuracy Mean: 0.8332897603485838\n",
      "Accuracy Standard Deviation: 0.08751492837304896\n"
     ]
    }
   ],
   "source": [
    "model = MLPClassifier(hidden_layer_sizes = (2000,), activation = \"relu\")\n",
    "scores = cross_val_score(model, X_scaled, y, cv=5, scoring='accuracy')\n",
    "print(f\"Accuracy Mean: {scores.mean()}\")\n",
    "print(f\"Accuracy Standard Deviation: {scores.std()}\")"
   ]
  },
  {
   "cell_type": "markdown",
   "id": "9a545ba4",
   "metadata": {},
   "source": [
    "- **Neural Network (MLP) Performance**: \n",
    "  - **Accuracy**: 83.33% 👍\n",
    "  - **Standard Deviation**: 8.87% 📈\n",
    "\n",
    "The Neural Network (MLP) performs moderately well with an accuracy of **83.33%**. The lower standard deviation of **8.87%** indicates that the model is more consistent across different data splits, even though it doesn't achieve the highest accuracy."
   ]
  },
  {
   "cell_type": "markdown",
   "id": "b595a83b",
   "metadata": {},
   "source": [
    "#### Model 5: KNN"
   ]
  },
  {
   "cell_type": "code",
   "execution_count": 11,
   "id": "d4102f35",
   "metadata": {},
   "outputs": [
    {
     "name": "stdout",
     "output_type": "stream",
     "text": [
      "Accuracy Mean: 0.8421786492374727\n",
      "Accuracy Standard Deviation: 0.0882471656125292\n"
     ]
    }
   ],
   "source": [
    "model = KNeighborsClassifier(7)\n",
    "scores = cross_val_score(model, X_scaled, y, cv=5, scoring='accuracy')\n",
    "print(f\"Accuracy Mean: {scores.mean()}\")\n",
    "print(f\"Accuracy Standard Deviation: {scores.std()}\")"
   ]
  },
  {
   "cell_type": "markdown",
   "id": "9558c228",
   "metadata": {},
   "source": [
    "- **KNN Performance**: \n",
    "  - **Accuracy**: 84.22% 🎯\n",
    "  - **Standard Deviation**: 8.82% 🔄\n",
    "\n",
    "KNN achieves an accuracy of **84.22%** with a relatively low standard deviation of **8.82%**, indicating fairly stable performance. Although it doesn't reach the accuracy levels of models like SVM or Random Forest, KNN might be more suitable when the decision boundaries are simpler and well-separated."
   ]
  },
  {
   "cell_type": "markdown",
   "id": "a7ff7b80",
   "metadata": {},
   "source": [
    "#### Model 6: Baysian Classification"
   ]
  },
  {
   "cell_type": "code",
   "execution_count": 12,
   "id": "1191665d",
   "metadata": {},
   "outputs": [
    {
     "name": "stdout",
     "output_type": "stream",
     "text": [
      "Accuracy Mean: 0.7935838779956427\n",
      "Accuracy Standard Deviation: 0.0569652245602915\n"
     ]
    }
   ],
   "source": [
    "model = GaussianNB()\n",
    "scores = cross_val_score(model, X_scaled, y, cv=5, scoring='accuracy')\n",
    "print(f\"Accuracy Mean: {scores.mean()}\")\n",
    "print(f\"Accuracy Standard Deviation: {scores.std()}\")"
   ]
  },
  {
   "cell_type": "markdown",
   "id": "1487661a",
   "metadata": {},
   "source": [
    "- **Naive Bayes Performance**: \n",
    "  - **Accuracy**: 79.36% 📉\n",
    "  - **Standard Deviation**: 5.70% 🔍\n",
    "\n",
    "Naive Bayes has the lowest accuracy of **79.36%**, but it also boasts the lowest standard deviation of **5.70%**, indicating very consistent performance across the folds. This model is simple and fast, but its underlying assumptions may not always hold, leading to lower accuracy compared to other models."
   ]
  },
  {
   "cell_type": "markdown",
   "id": "a379a91b",
   "metadata": {},
   "source": [
    "## 7. 📚Model Comparison\n",
    "[back](#-qinzheng-xu)"
   ]
  },
  {
   "cell_type": "code",
   "execution_count": 13,
   "id": "e1a49f3f",
   "metadata": {},
   "outputs": [
    {
     "name": "stdout",
     "output_type": "stream",
     "text": [
      "Training data shape: (474, 15)\n",
      "Testing data shape: (204, 15)\n"
     ]
    }
   ],
   "source": [
    "# Define Train Sample and Test sample.\n",
    "X_train, X_test, y_train, y_test = train_test_split(X, y, test_size=0.3, random_state=42)\n",
    "\n",
    "print(f\"Training data shape: {X_train.shape}\")\n",
    "print(f\"Testing data shape: {X_test.shape}\")"
   ]
  },
  {
   "cell_type": "code",
   "execution_count": 14,
   "id": "d343c23d",
   "metadata": {},
   "outputs": [
    {
     "name": "stdout",
     "output_type": "stream",
     "text": [
      "Logistic Regression - Accuracy: 0.8725\n",
      "Random Forest - Accuracy: 0.8725\n",
      "K-Nearest Neighbors - Accuracy: 0.6863\n",
      "Support Vector Machine - Accuracy: 0.8284\n",
      "Neural Network - Accuracy: 0.6422\n",
      "Naive Bayes - Accuracy: 0.8186\n"
     ]
    }
   ],
   "source": [
    "# Define a list of classifiers to be tested\n",
    "classifiers = {\n",
    "    'Logistic Regression': LogisticRegression(penalty = 'l2', C = 0.1),\n",
    "    'Random Forest': RandomForestClassifier(n_estimators=500, criterion = 'gini'),\n",
    "    'K-Nearest Neighbors': KNeighborsClassifier(7),\n",
    "    'Support Vector Machine': SVC(C=1, kernel='linear', degree=1),\n",
    "    'Neural Network': MLPClassifier(hidden_layer_sizes = (2000,), activation = \"relu\"),\n",
    "    'Naive Bayes': GaussianNB()\n",
    "}\n",
    "\n",
    "# Train and evaluate each classifier\n",
    "for name, clf in classifiers.items():\n",
    "    clf.fit(X_train, y_train)\n",
    "    y_pred = clf.predict(X_test)\n",
    "    print(f\"{name} - Accuracy: {accuracy_score(y_test, y_pred):.4f}\")"
   ]
  },
  {
   "cell_type": "code",
   "execution_count": 15,
   "id": "22e189d0",
   "metadata": {},
   "outputs": [
    {
     "data": {
      "image/png": "[encoded data removed]",
      "text/plain": [
       "<Figure size 720x432 with 1 Axes>"
      ]
     },
     "metadata": {
      "needs_background": "light"
     },
     "output_type": "display_data"
    }
   ],
   "source": [
    "# Plot the accuracy of different models\n",
    "accuracy_scores = [accuracy_score(y_test, clf.predict(X_test)) for clf in classifiers.values()]\n",
    "\n",
    "plt.figure(figsize=(10, 6))\n",
    "sns.barplot(x=list(classifiers.keys()), y=accuracy_scores, palette=\"viridis\")\n",
    "plt.title('Model Accuracy Comparison')\n",
    "plt.xlabel('Classifier')\n",
    "plt.ylabel('Accuracy')\n",
    "plt.ylim(0.5, 1.0)\n",
    "plt.xticks(rotation=45)\n",
    "plt.show()"
   ]
  },
  {
   "cell_type": "markdown",
   "id": "0d6b341f",
   "metadata": {},
   "source": [
    "📊 Model Accuracy Comparison\n",
    "\n",
    "1. **Logistic Regression - Accuracy: 0.8725** 🧠\n",
    "- **Accuracy**: **87.25%** \n",
    "- **Interpretation**: Logistic Regression performs well, effectively capturing linear relationships between features and the target variable.\n",
    "\n",
    "2. **Random Forest - Accuracy: 0.8775** 🌳\n",
    "- **Accuracy**: **87.75%** \n",
    "- **Interpretation**: Random Forest slightly outperforms Logistic Regression, handling non-linear relationships and interactions between features effectively.\n",
    "\n",
    "3. **K-Nearest Neighbors (KNN) - Accuracy: 0.6863** 👥\n",
    "- **Accuracy**: **68.63%** \n",
    "- **Interpretation**: KNN has the lowest accuracy, potentially struggling with complex decision boundaries or high dimensionality.\n",
    "\n",
    "4. **Support Vector Machine (SVM) - Accuracy: 0.8284** 💻\n",
    "- **Accuracy**: **82.84%** \n",
    "- **Interpretation**: SVM performs well but not as high as Logistic Regression or Random Forest. It excels in cases where classes are well-separated.\n",
    "\n",
    "5. **Neural Network - Accuracy: 0.7549** 🔗\n",
    "- **Accuracy**: **75.49%** \n",
    "- **Interpretation**: The Neural Network has moderate accuracy. Performance might be limited by factors such as training data size or hyperparameters.\n",
    "\n",
    "6. **Naive Bayes - Accuracy: 0.8186** 🧮\n",
    "- **Accuracy**: **81.86%** \n",
    "- **Interpretation**: Naive Bayes performs well despite its simplicity and assumption of feature independence, serving as a strong baseline model.\n",
    "\n",
    "**Summary of Model Performance**🏆\n",
    "- **Top Performers**: **Random Forest** (87.75%) and **Logistic Regression** (87.25%) are the best choices for this classification task.\n",
    "- **Moderate Performers**: **Support Vector Machine** (82.84%) and **Naive Bayes** (81.86%) show reasonable performance, capturing significant patterns in the data.\n",
    "- **Lower Performers**: **Neural Network** (75.49%) and **K-Nearest Neighbors** (68.63%) have lower accuracy, suggesting potential issues with complexity or sensitivity to data characteristics."
   ]
  },
  {
   "cell_type": "markdown",
   "id": "09fdf63e",
   "metadata": {},
   "source": [
    "## 8. 📚Classification Report\n",
    "[back](#-qinzheng-xu)"
   ]
  },
  {
   "cell_type": "code",
   "execution_count": 16,
   "id": "841d7e5d",
   "metadata": {},
   "outputs": [
    {
     "name": "stdout",
     "output_type": "stream",
     "text": [
      "Classification Report:\n",
      "               precision    recall  f1-score   support\n",
      "\n",
      "           0       0.81      0.90      0.85        90\n",
      "           1       0.91      0.83      0.87       114\n",
      "\n",
      "    accuracy                           0.86       204\n",
      "   macro avg       0.86      0.87      0.86       204\n",
      "weighted avg       0.87      0.86      0.86       204\n",
      "\n"
     ]
    },
    {
     "data": {
      "image/png": "[encoded data removed]",
      "text/plain": [
       "<Figure size 432x288 with 2 Axes>"
      ]
     },
     "metadata": {
      "needs_background": "light"
     },
     "output_type": "display_data"
    }
   ],
   "source": [
    "# Choose the best model (Random Forest)\n",
    "best_model = RandomForestClassifier(n_estimators=500, criterion = 'gini')\n",
    "best_model.fit(X_train, y_train)\n",
    "y_pred_best = best_model.predict(X_test)\n",
    "\n",
    "# Classification Report\n",
    "print(\"Classification Report:\\n\", classification_report(y_test, y_pred_best))\n",
    "\n",
    "# Confusion Matrix\n",
    "conf_matrix = confusion_matrix(y_test, y_pred_best)\n",
    "sns.heatmap(conf_matrix, annot=True, fmt=\"d\", cmap=\"Blues\")\n",
    "plt.title('Confusion Matrix')\n",
    "plt.xlabel('Predicted')\n",
    "plt.ylabel('Actual')\n",
    "plt.show()"
   ]
  },
  {
   "cell_type": "markdown",
   "id": "834929b6",
   "metadata": {},
   "source": [
    "📊 Classification Report Breakdown\n",
    "\n",
    "The **Classification Report** provides a detailed evaluation of a model's performance in classification tasks, with metrics like **precision**, **recall**, **F1-score**, and **support**.\n",
    "\n",
    "1. **Class Labels (0 and 1)**\n",
    "- **Class 0**: Represents one category (e.g., \"Non-Risky\" transactions).\n",
    "- **Class 1**: Represents the other category (e.g., \"Risky\" transactions).\n",
    "\n",
    "2. **Precision** 🏹\n",
    "- **Class 0**: **0.83** (83%) - The model is correct 83% of the time when predicting non-risky transactions.\n",
    "- **Class 1**: **0.91** (91%) - The model is correct 91% of the time when predicting risky transactions.\n",
    "\n",
    "💡 **High precision** is crucial when false positives are costly.\n",
    "\n",
    "3. **Recall** 🔍\n",
    "- **Class 0**: **0.89** (89%) - The model identifies 89% of actual non-risky transactions.\n",
    "- **Class 1**: **0.86** (86%) - The model identifies 86% of actual risky transactions.\n",
    "\n",
    "💡 **High recall** is essential when false negatives are costly.\n",
    "\n",
    "4. **F1-Score** 🎯\n",
    "- **Class 0**: **0.86** (86%) - Balances precision and recall for non-risky transactions.\n",
    "- **Class 1**: **0.88** (88%) - Balances precision and recall for risky transactions.\n",
    "\n",
    "💡 **The F1-score** is useful for a single performance metric, especially with imbalanced classes.\n",
    "\n",
    "5. **Support** 🧱\n",
    "- **Class 0**: 90 occurrences.\n",
    "- **Class 1**: 114 occurrences.\n",
    "\n",
    "💡 **Support** indicates the distribution of classes in the dataset.\n",
    "\n",
    "6. **Overall Accuracy** 🎉\n",
    "- **Accuracy**: **0.87** (87%) - Correctly predicts 87% of all transactions.\n",
    "\n",
    "7. **Macro Average** 🌍\n",
    "- **Macro avg**: Precision, recall, and F1-score are all **0.87**, treating all classes equally.\n",
    "\n",
    "8. **Weighted Average** 🏋️‍♂️\n",
    "- **Weighted avg**: Precision, recall, and F1-score are all **0.87**, considering class support and providing a balanced view.\n",
    "\n",
    "**Summary** 📝\n",
    "- **Class 0 (Non-Risky)**: Good precision (83%) and recall (89%), with a balanced F1-score (86%).\n",
    "- **Class 1 (Risky)**: Better precision (91%) and decent recall (86%), resulting in a strong F1-score (88%).\n",
    "- **Overall**: The model performs well with an accuracy of 87%, supported by consistent macro and weighted averages."
   ]
  }
 ],
 "metadata": {
  "kernelspec": {
   "display_name": "Python 3 (ipykernel)",
   "language": "python",
   "name": "python3"
  },
  "language_info": {
   "codemirror_mode": {
    "name": "ipython",
    "version": 3
   },
   "file_extension": ".py",
   "mimetype": "text/x-python",
   "name": "python",
   "nbconvert_exporter": "python",
   "pygments_lexer": "ipython3",
   "version": "3.9.12"
  }
 },
 "nbformat": 4,
 "nbformat_minor": 5
}
